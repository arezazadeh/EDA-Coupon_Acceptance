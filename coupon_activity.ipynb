{
 "cells": [
  {
   "cell_type": "markdown",
   "metadata": {},
   "source": [
    "### Will a Customer Accept the Coupon?\n",
    "\n",
    "**Context**\n",
    "\n",
    "Imagine driving through town and a coupon is delivered to your cell phone for a restaraunt near where you are driving. Would you accept that coupon and take a short detour to the restaraunt? Would you accept the coupon but use it on a sunbsequent trip? Would you ignore the coupon entirely? What if the coupon was for a bar instead of a restaraunt? What about a coffee house? Would you accept a bar coupon with a minor passenger in the car? What about if it was just you and your partner in the car? Would weather impact the rate of acceptance? What about the time of day?\n",
    "\n",
    "Obviously, proximity to the business is a factor on whether the coupon is delivered to the driver or not, but what are the factors that determine whether a driver accepts the coupon once it is delivered to them? How would you determine whether a driver is likely to accept a coupon?\n",
    "\n",
    "**Overview**\n",
    "\n",
    "The goal of this project is to use what you know about visualizations and probability distributions to distinguish between customers who accepted a driving coupon versus those that did not.\n",
    "\n",
    "**Data**\n",
    "\n",
    "This data comes to us from the UCI Machine Learning repository and was collected via a survey on Amazon Mechanical Turk. The survey describes different driving scenarios including the destination, current time, weather, passenger, etc., and then ask the person whether he will accept the coupon if he is the driver. Answers that the user will drive there ‘right away’ or ‘later before the coupon expires’ are labeled as ‘Y = 1’ and answers ‘no, I do not want the coupon’ are labeled as ‘Y = 0’.  There are five different types of coupons -- less expensive restaurants (under \\\\$20), coffee houses, carry out & take away, bar, and more expensive restaurants (\\\\$20 - \\\\$50). "
   ]
  },
  {
   "cell_type": "markdown",
   "metadata": {},
   "source": [
    "**Deliverables**\n",
    "\n",
    "Your final product should be a brief report that highlights the differences between customers who did and did not accept the coupons.  To explore the data you will utilize your knowledge of plotting, statistical summaries, and visualization using Python. You will publish your findings in a public facing github repository as your first portfolio piece. \n",
    "\n",
    "\n",
    "\n"
   ]
  },
  {
   "cell_type": "markdown",
   "metadata": {},
   "source": [
    "### Data Description\n",
    "Keep in mind that these values mentioned below are average values.\n",
    "\n",
    "The attributes of this data set include:\n",
    "1. User attributes\n",
    "    -  Gender: male, female\n",
    "    -  Age: below 21, 21 to 25, 26 to 30, etc.\n",
    "    -  Marital Status: single, married partner, unmarried partner, or widowed\n",
    "    -  Number of children: 0, 1, or more than 1\n",
    "    -  Education: high school, bachelors degree, associates degree, or graduate degree\n",
    "    -  Occupation: architecture & engineering, business & financial, etc.\n",
    "    -  Annual income: less than \\\\$12500, \\\\$12500 - \\\\$24999, \\\\$25000 - \\\\$37499, etc.\n",
    "    -  Number of times that he/she goes to a bar: 0, less than 1, 1 to 3, 4 to 8 or greater than 8\n",
    "    -  Number of times that he/she buys takeaway food: 0, less than 1, 1 to 3, 4 to 8 or greater\n",
    "    than 8\n",
    "    -  Number of times that he/she goes to a coffee house: 0, less than 1, 1 to 3, 4 to 8 or\n",
    "    greater than 8\n",
    "    -  Number of times that he/she eats at a restaurant with average expense less than \\\\$20 per\n",
    "    person: 0, less than 1, 1 to 3, 4 to 8 or greater than 8\n",
    "    -  Number of times that he/she goes to a bar: 0, less than 1, 1 to 3, 4 to 8 or greater than 8\n",
    "    \n",
    "\n",
    "2. Contextual attributes\n",
    "    - Driving destination: home, work, or no urgent destination\n",
    "    - Location of user, coupon and destination: we provide a map to show the geographical\n",
    "    location of the user, destination, and the venue, and we mark the distance between each\n",
    "    two places with time of driving. The user can see whether the venue is in the same\n",
    "    direction as the destination.\n",
    "    - Weather: sunny, rainy, or snowy\n",
    "    - Temperature: 30F, 55F, or 80F\n",
    "    - Time: 10AM, 2PM, or 6PM\n",
    "    - Passenger: alone, partner, kid(s), or friend(s)\n",
    "\n",
    "\n",
    "3. Coupon attributes\n",
    "    - time before it expires: 2 hours or one day"
   ]
  },
  {
   "cell_type": "code",
   "execution_count": 1,
   "metadata": {},
   "outputs": [],
   "source": [
    "import matplotlib.pyplot as plt\n",
    "import seaborn as sns\n",
    "import pandas as pd\n",
    "import numpy as np\n",
    "import sweetviz as sv\n",
    "import plotly.express as px"
   ]
  },
  {
   "cell_type": "raw",
   "metadata": {},
   "source": []
  },
  {
   "cell_type": "code",
   "execution_count": 2,
   "metadata": {},
   "outputs": [],
   "source": [
    "# !pip install ydata-profiling\n",
    "# !pip install sweetviz "
   ]
  },
  {
   "cell_type": "markdown",
   "metadata": {},
   "source": [
    "### Problems\n",
    "\n",
    "Use the prompts below to get started with your data analysis.  \n",
    "\n",
    "1. Read in the `coupons.csv` file.\n",
    "\n",
    "\n"
   ]
  },
  {
   "cell_type": "code",
   "execution_count": 3,
   "metadata": {},
   "outputs": [],
   "source": [
    "data = pd.read_csv('data/coupons.csv')\n",
    "pd.set_option('display.max_columns', 100)"
   ]
  },
  {
   "cell_type": "code",
   "execution_count": 4,
   "metadata": {},
   "outputs": [
    {
     "data": {
      "text/html": [
       "<div>\n",
       "<style scoped>\n",
       "    .dataframe tbody tr th:only-of-type {\n",
       "        vertical-align: middle;\n",
       "    }\n",
       "\n",
       "    .dataframe tbody tr th {\n",
       "        vertical-align: top;\n",
       "    }\n",
       "\n",
       "    .dataframe thead th {\n",
       "        text-align: right;\n",
       "    }\n",
       "</style>\n",
       "<table border=\"1\" class=\"dataframe\">\n",
       "  <thead>\n",
       "    <tr style=\"text-align: right;\">\n",
       "      <th></th>\n",
       "      <th>destination</th>\n",
       "      <th>passanger</th>\n",
       "      <th>weather</th>\n",
       "      <th>temperature</th>\n",
       "      <th>time</th>\n",
       "      <th>coupon</th>\n",
       "      <th>expiration</th>\n",
       "      <th>gender</th>\n",
       "      <th>age</th>\n",
       "      <th>maritalStatus</th>\n",
       "      <th>has_children</th>\n",
       "      <th>education</th>\n",
       "      <th>occupation</th>\n",
       "      <th>income</th>\n",
       "      <th>car</th>\n",
       "      <th>Bar</th>\n",
       "      <th>CoffeeHouse</th>\n",
       "      <th>CarryAway</th>\n",
       "      <th>RestaurantLessThan20</th>\n",
       "      <th>Restaurant20To50</th>\n",
       "      <th>toCoupon_GEQ5min</th>\n",
       "      <th>toCoupon_GEQ15min</th>\n",
       "      <th>toCoupon_GEQ25min</th>\n",
       "      <th>direction_same</th>\n",
       "      <th>direction_opp</th>\n",
       "      <th>Y</th>\n",
       "    </tr>\n",
       "  </thead>\n",
       "  <tbody>\n",
       "    <tr>\n",
       "      <th>0</th>\n",
       "      <td>No Urgent Place</td>\n",
       "      <td>Alone</td>\n",
       "      <td>Sunny</td>\n",
       "      <td>55</td>\n",
       "      <td>2PM</td>\n",
       "      <td>Restaurant(&lt;20)</td>\n",
       "      <td>1d</td>\n",
       "      <td>Female</td>\n",
       "      <td>21</td>\n",
       "      <td>Unmarried partner</td>\n",
       "      <td>1</td>\n",
       "      <td>Some college - no degree</td>\n",
       "      <td>Unemployed</td>\n",
       "      <td>$37500 - $49999</td>\n",
       "      <td>NaN</td>\n",
       "      <td>never</td>\n",
       "      <td>never</td>\n",
       "      <td>NaN</td>\n",
       "      <td>4~8</td>\n",
       "      <td>1~3</td>\n",
       "      <td>1</td>\n",
       "      <td>0</td>\n",
       "      <td>0</td>\n",
       "      <td>0</td>\n",
       "      <td>1</td>\n",
       "      <td>1</td>\n",
       "    </tr>\n",
       "    <tr>\n",
       "      <th>1</th>\n",
       "      <td>No Urgent Place</td>\n",
       "      <td>Friend(s)</td>\n",
       "      <td>Sunny</td>\n",
       "      <td>80</td>\n",
       "      <td>10AM</td>\n",
       "      <td>Coffee House</td>\n",
       "      <td>2h</td>\n",
       "      <td>Female</td>\n",
       "      <td>21</td>\n",
       "      <td>Unmarried partner</td>\n",
       "      <td>1</td>\n",
       "      <td>Some college - no degree</td>\n",
       "      <td>Unemployed</td>\n",
       "      <td>$37500 - $49999</td>\n",
       "      <td>NaN</td>\n",
       "      <td>never</td>\n",
       "      <td>never</td>\n",
       "      <td>NaN</td>\n",
       "      <td>4~8</td>\n",
       "      <td>1~3</td>\n",
       "      <td>1</td>\n",
       "      <td>0</td>\n",
       "      <td>0</td>\n",
       "      <td>0</td>\n",
       "      <td>1</td>\n",
       "      <td>0</td>\n",
       "    </tr>\n",
       "    <tr>\n",
       "      <th>2</th>\n",
       "      <td>No Urgent Place</td>\n",
       "      <td>Friend(s)</td>\n",
       "      <td>Sunny</td>\n",
       "      <td>80</td>\n",
       "      <td>10AM</td>\n",
       "      <td>Carry out &amp; Take away</td>\n",
       "      <td>2h</td>\n",
       "      <td>Female</td>\n",
       "      <td>21</td>\n",
       "      <td>Unmarried partner</td>\n",
       "      <td>1</td>\n",
       "      <td>Some college - no degree</td>\n",
       "      <td>Unemployed</td>\n",
       "      <td>$37500 - $49999</td>\n",
       "      <td>NaN</td>\n",
       "      <td>never</td>\n",
       "      <td>never</td>\n",
       "      <td>NaN</td>\n",
       "      <td>4~8</td>\n",
       "      <td>1~3</td>\n",
       "      <td>1</td>\n",
       "      <td>1</td>\n",
       "      <td>0</td>\n",
       "      <td>0</td>\n",
       "      <td>1</td>\n",
       "      <td>1</td>\n",
       "    </tr>\n",
       "    <tr>\n",
       "      <th>3</th>\n",
       "      <td>No Urgent Place</td>\n",
       "      <td>Friend(s)</td>\n",
       "      <td>Sunny</td>\n",
       "      <td>80</td>\n",
       "      <td>2PM</td>\n",
       "      <td>Coffee House</td>\n",
       "      <td>2h</td>\n",
       "      <td>Female</td>\n",
       "      <td>21</td>\n",
       "      <td>Unmarried partner</td>\n",
       "      <td>1</td>\n",
       "      <td>Some college - no degree</td>\n",
       "      <td>Unemployed</td>\n",
       "      <td>$37500 - $49999</td>\n",
       "      <td>NaN</td>\n",
       "      <td>never</td>\n",
       "      <td>never</td>\n",
       "      <td>NaN</td>\n",
       "      <td>4~8</td>\n",
       "      <td>1~3</td>\n",
       "      <td>1</td>\n",
       "      <td>1</td>\n",
       "      <td>0</td>\n",
       "      <td>0</td>\n",
       "      <td>1</td>\n",
       "      <td>0</td>\n",
       "    </tr>\n",
       "  </tbody>\n",
       "</table>\n",
       "</div>"
      ],
      "text/plain": [
       "       destination  passanger weather  temperature  time  \\\n",
       "0  No Urgent Place      Alone   Sunny           55   2PM   \n",
       "1  No Urgent Place  Friend(s)   Sunny           80  10AM   \n",
       "2  No Urgent Place  Friend(s)   Sunny           80  10AM   \n",
       "3  No Urgent Place  Friend(s)   Sunny           80   2PM   \n",
       "\n",
       "                  coupon expiration  gender age      maritalStatus  \\\n",
       "0        Restaurant(<20)         1d  Female  21  Unmarried partner   \n",
       "1           Coffee House         2h  Female  21  Unmarried partner   \n",
       "2  Carry out & Take away         2h  Female  21  Unmarried partner   \n",
       "3           Coffee House         2h  Female  21  Unmarried partner   \n",
       "\n",
       "   has_children                 education  occupation           income  car  \\\n",
       "0             1  Some college - no degree  Unemployed  $37500 - $49999  NaN   \n",
       "1             1  Some college - no degree  Unemployed  $37500 - $49999  NaN   \n",
       "2             1  Some college - no degree  Unemployed  $37500 - $49999  NaN   \n",
       "3             1  Some college - no degree  Unemployed  $37500 - $49999  NaN   \n",
       "\n",
       "     Bar CoffeeHouse CarryAway RestaurantLessThan20 Restaurant20To50  \\\n",
       "0  never       never       NaN                  4~8              1~3   \n",
       "1  never       never       NaN                  4~8              1~3   \n",
       "2  never       never       NaN                  4~8              1~3   \n",
       "3  never       never       NaN                  4~8              1~3   \n",
       "\n",
       "   toCoupon_GEQ5min  toCoupon_GEQ15min  toCoupon_GEQ25min  direction_same  \\\n",
       "0                 1                  0                  0               0   \n",
       "1                 1                  0                  0               0   \n",
       "2                 1                  1                  0               0   \n",
       "3                 1                  1                  0               0   \n",
       "\n",
       "   direction_opp  Y  \n",
       "0              1  1  \n",
       "1              1  0  \n",
       "2              1  1  \n",
       "3              1  0  "
      ]
     },
     "execution_count": 4,
     "metadata": {},
     "output_type": "execute_result"
    }
   ],
   "source": [
    "data.head(4)"
   ]
  },
  {
   "cell_type": "code",
   "execution_count": 5,
   "metadata": {},
   "outputs": [
    {
     "data": {
      "text/plain": [
       "(12684, 26)"
      ]
     },
     "execution_count": 5,
     "metadata": {},
     "output_type": "execute_result"
    }
   ],
   "source": [
    "data.shape\n"
   ]
  },
  {
   "cell_type": "markdown",
   "metadata": {},
   "source": [
    "2. Investigate the dataset for missing or problematic data."
   ]
  },
  {
   "cell_type": "code",
   "execution_count": 6,
   "metadata": {},
   "outputs": [
    {
     "name": "stdout",
     "output_type": "stream",
     "text": [
      "<class 'pandas.core.frame.DataFrame'>\n",
      "RangeIndex: 12684 entries, 0 to 12683\n",
      "Data columns (total 26 columns):\n",
      " #   Column                Non-Null Count  Dtype \n",
      "---  ------                --------------  ----- \n",
      " 0   destination           12684 non-null  object\n",
      " 1   passanger             12684 non-null  object\n",
      " 2   weather               12684 non-null  object\n",
      " 3   temperature           12684 non-null  int64 \n",
      " 4   time                  12684 non-null  object\n",
      " 5   coupon                12684 non-null  object\n",
      " 6   expiration            12684 non-null  object\n",
      " 7   gender                12684 non-null  object\n",
      " 8   age                   12684 non-null  object\n",
      " 9   maritalStatus         12684 non-null  object\n",
      " 10  has_children          12684 non-null  int64 \n",
      " 11  education             12684 non-null  object\n",
      " 12  occupation            12684 non-null  object\n",
      " 13  income                12684 non-null  object\n",
      " 14  car                   108 non-null    object\n",
      " 15  Bar                   12577 non-null  object\n",
      " 16  CoffeeHouse           12467 non-null  object\n",
      " 17  CarryAway             12533 non-null  object\n",
      " 18  RestaurantLessThan20  12554 non-null  object\n",
      " 19  Restaurant20To50      12495 non-null  object\n",
      " 20  toCoupon_GEQ5min      12684 non-null  int64 \n",
      " 21  toCoupon_GEQ15min     12684 non-null  int64 \n",
      " 22  toCoupon_GEQ25min     12684 non-null  int64 \n",
      " 23  direction_same        12684 non-null  int64 \n",
      " 24  direction_opp         12684 non-null  int64 \n",
      " 25  Y                     12684 non-null  int64 \n",
      "dtypes: int64(8), object(18)\n",
      "memory usage: 2.5+ MB\n"
     ]
    }
   ],
   "source": [
    "data.info()"
   ]
  },
  {
   "cell_type": "code",
   "execution_count": 7,
   "metadata": {},
   "outputs": [
    {
     "data": {
      "text/plain": [
       "Index(['destination', 'passanger', 'weather', 'temperature', 'time', 'coupon',\n",
       "       'expiration', 'gender', 'age', 'maritalStatus', 'has_children',\n",
       "       'education', 'occupation', 'income', 'car', 'Bar', 'CoffeeHouse',\n",
       "       'CarryAway', 'RestaurantLessThan20', 'Restaurant20To50',\n",
       "       'toCoupon_GEQ5min', 'toCoupon_GEQ15min', 'toCoupon_GEQ25min',\n",
       "       'direction_same', 'direction_opp', 'Y'],\n",
       "      dtype='object')"
      ]
     },
     "execution_count": 7,
     "metadata": {},
     "output_type": "execute_result"
    }
   ],
   "source": [
    "data.columns"
   ]
  },
  {
   "cell_type": "code",
   "execution_count": 8,
   "metadata": {},
   "outputs": [
    {
     "data": {
      "text/plain": [
       "destination              0.000000\n",
       "passanger                0.000000\n",
       "weather                  0.000000\n",
       "temperature              0.000000\n",
       "time                     0.000000\n",
       "coupon                   0.000000\n",
       "expiration               0.000000\n",
       "gender                   0.000000\n",
       "age                      0.000000\n",
       "maritalStatus            0.000000\n",
       "has_children             0.000000\n",
       "education                0.000000\n",
       "occupation               0.000000\n",
       "income                   0.000000\n",
       "car                     99.148534\n",
       "Bar                      0.843582\n",
       "CoffeeHouse              1.710817\n",
       "CarryAway                1.190476\n",
       "RestaurantLessThan20     1.024913\n",
       "Restaurant20To50         1.490066\n",
       "toCoupon_GEQ5min         0.000000\n",
       "toCoupon_GEQ15min        0.000000\n",
       "toCoupon_GEQ25min        0.000000\n",
       "direction_same           0.000000\n",
       "direction_opp            0.000000\n",
       "Y                        0.000000\n",
       "dtype: float64"
      ]
     },
     "execution_count": 8,
     "metadata": {},
     "output_type": "execute_result"
    }
   ],
   "source": [
    "# finding the percentage value missing data...\n",
    "\n",
    "( data.isnull().sum() / data.shape[0] ) * 100"
   ]
  },
  {
   "cell_type": "code",
   "execution_count": 9,
   "metadata": {},
   "outputs": [],
   "source": [
    "# filling NaN with \"never\"...\n",
    "\n",
    "data[\"CarryAway\"].fillna(\"never\", inplace=True)\n",
    "data[[\"Bar\", \"CoffeeHouse\", \"RestaurantLessThan20\", \"Restaurant20To50\"]] = data[[\"Bar\", \"CoffeeHouse\", \"RestaurantLessThan20\", \"Restaurant20To50\"]].replace(np.nan, \"never\")\n",
    "\n",
    "\n"
   ]
  },
  {
   "cell_type": "code",
   "execution_count": 10,
   "metadata": {},
   "outputs": [
    {
     "data": {
      "text/html": [
       "<div>\n",
       "<style scoped>\n",
       "    .dataframe tbody tr th:only-of-type {\n",
       "        vertical-align: middle;\n",
       "    }\n",
       "\n",
       "    .dataframe tbody tr th {\n",
       "        vertical-align: top;\n",
       "    }\n",
       "\n",
       "    .dataframe thead th {\n",
       "        text-align: right;\n",
       "    }\n",
       "</style>\n",
       "<table border=\"1\" class=\"dataframe\">\n",
       "  <thead>\n",
       "    <tr style=\"text-align: right;\">\n",
       "      <th></th>\n",
       "      <th>destination</th>\n",
       "      <th>passanger</th>\n",
       "      <th>weather</th>\n",
       "      <th>temperature</th>\n",
       "      <th>time</th>\n",
       "      <th>coupon</th>\n",
       "      <th>expiration</th>\n",
       "      <th>gender</th>\n",
       "      <th>age</th>\n",
       "      <th>maritalStatus</th>\n",
       "      <th>has_children</th>\n",
       "      <th>education</th>\n",
       "      <th>occupation</th>\n",
       "      <th>income</th>\n",
       "      <th>car</th>\n",
       "      <th>Bar</th>\n",
       "      <th>CoffeeHouse</th>\n",
       "      <th>CarryAway</th>\n",
       "      <th>RestaurantLessThan20</th>\n",
       "      <th>Restaurant20To50</th>\n",
       "      <th>toCoupon_GEQ5min</th>\n",
       "      <th>toCoupon_GEQ15min</th>\n",
       "      <th>toCoupon_GEQ25min</th>\n",
       "      <th>direction_same</th>\n",
       "      <th>direction_opp</th>\n",
       "      <th>Y</th>\n",
       "    </tr>\n",
       "  </thead>\n",
       "  <tbody>\n",
       "    <tr>\n",
       "      <th>0</th>\n",
       "      <td>No Urgent Place</td>\n",
       "      <td>Alone</td>\n",
       "      <td>Sunny</td>\n",
       "      <td>55</td>\n",
       "      <td>2PM</td>\n",
       "      <td>Restaurant(&lt;20)</td>\n",
       "      <td>1d</td>\n",
       "      <td>Female</td>\n",
       "      <td>21</td>\n",
       "      <td>Unmarried partner</td>\n",
       "      <td>1</td>\n",
       "      <td>Some college - no degree</td>\n",
       "      <td>Unemployed</td>\n",
       "      <td>$37500 - $49999</td>\n",
       "      <td>NaN</td>\n",
       "      <td>never</td>\n",
       "      <td>never</td>\n",
       "      <td>never</td>\n",
       "      <td>4~8</td>\n",
       "      <td>1~3</td>\n",
       "      <td>1</td>\n",
       "      <td>0</td>\n",
       "      <td>0</td>\n",
       "      <td>0</td>\n",
       "      <td>1</td>\n",
       "      <td>1</td>\n",
       "    </tr>\n",
       "    <tr>\n",
       "      <th>1</th>\n",
       "      <td>No Urgent Place</td>\n",
       "      <td>Friend(s)</td>\n",
       "      <td>Sunny</td>\n",
       "      <td>80</td>\n",
       "      <td>10AM</td>\n",
       "      <td>Coffee House</td>\n",
       "      <td>2h</td>\n",
       "      <td>Female</td>\n",
       "      <td>21</td>\n",
       "      <td>Unmarried partner</td>\n",
       "      <td>1</td>\n",
       "      <td>Some college - no degree</td>\n",
       "      <td>Unemployed</td>\n",
       "      <td>$37500 - $49999</td>\n",
       "      <td>NaN</td>\n",
       "      <td>never</td>\n",
       "      <td>never</td>\n",
       "      <td>never</td>\n",
       "      <td>4~8</td>\n",
       "      <td>1~3</td>\n",
       "      <td>1</td>\n",
       "      <td>0</td>\n",
       "      <td>0</td>\n",
       "      <td>0</td>\n",
       "      <td>1</td>\n",
       "      <td>0</td>\n",
       "    </tr>\n",
       "  </tbody>\n",
       "</table>\n",
       "</div>"
      ],
      "text/plain": [
       "       destination  passanger weather  temperature  time           coupon  \\\n",
       "0  No Urgent Place      Alone   Sunny           55   2PM  Restaurant(<20)   \n",
       "1  No Urgent Place  Friend(s)   Sunny           80  10AM     Coffee House   \n",
       "\n",
       "  expiration  gender age      maritalStatus  has_children  \\\n",
       "0         1d  Female  21  Unmarried partner             1   \n",
       "1         2h  Female  21  Unmarried partner             1   \n",
       "\n",
       "                  education  occupation           income  car    Bar  \\\n",
       "0  Some college - no degree  Unemployed  $37500 - $49999  NaN  never   \n",
       "1  Some college - no degree  Unemployed  $37500 - $49999  NaN  never   \n",
       "\n",
       "  CoffeeHouse CarryAway RestaurantLessThan20 Restaurant20To50  \\\n",
       "0       never     never                  4~8              1~3   \n",
       "1       never     never                  4~8              1~3   \n",
       "\n",
       "   toCoupon_GEQ5min  toCoupon_GEQ15min  toCoupon_GEQ25min  direction_same  \\\n",
       "0                 1                  0                  0               0   \n",
       "1                 1                  0                  0               0   \n",
       "\n",
       "   direction_opp  Y  \n",
       "0              1  1  \n",
       "1              1  0  "
      ]
     },
     "execution_count": 10,
     "metadata": {},
     "output_type": "execute_result"
    }
   ],
   "source": [
    "data.head(2)"
   ]
  },
  {
   "cell_type": "code",
   "execution_count": 11,
   "metadata": {},
   "outputs": [
    {
     "data": {
      "text/plain": [
       "False    12610\n",
       "True        74\n",
       "dtype: int64"
      ]
     },
     "execution_count": 11,
     "metadata": {},
     "output_type": "execute_result"
    }
   ],
   "source": [
    "# checking for duplicate...\n",
    "\n",
    "data.duplicated().value_counts()"
   ]
  },
  {
   "cell_type": "code",
   "execution_count": 12,
   "metadata": {},
   "outputs": [],
   "source": [
    "# there are 74 duplicates, dropping the duplicates...\n",
    "\n",
    "data = data.drop_duplicates()"
   ]
  },
  {
   "cell_type": "code",
   "execution_count": 13,
   "metadata": {},
   "outputs": [
    {
     "data": {
      "text/plain": [
       "False    12610\n",
       "dtype: int64"
      ]
     },
     "execution_count": 13,
     "metadata": {},
     "output_type": "execute_result"
    }
   ],
   "source": [
    "# duplicates are removed...\n",
    "\n",
    "data.duplicated().value_counts()"
   ]
  },
  {
   "cell_type": "code",
   "execution_count": 14,
   "metadata": {
    "scrolled": true
   },
   "outputs": [],
   "source": [
    "# dropping car column since almost 99% of it was NaN...\n",
    "\n",
    "data.drop(\"car\", inplace=True, axis=1)"
   ]
  },
  {
   "cell_type": "code",
   "execution_count": 15,
   "metadata": {},
   "outputs": [],
   "source": [
    "# added another column for acceptance Accepted for 1 and Rejected for 0 this correlate with Y column\n",
    "# i did this to reflect that in the plot, instead of showing 0,1 in the plot \n",
    "\n",
    "\n",
    "data[\"acceptance\"] = np.where(data[\"Y\"] == 1, \"Accepted\", \"Rejected\")"
   ]
  },
  {
   "cell_type": "markdown",
   "metadata": {},
   "source": [
    "# <li> Consolidating and Dropping Columns </li>\n",
    "\n",
    "***\"toCoupon_GEQ5min\", \"toCoupon_GEQ15min\", \"toCoupon_GEQ25min\" are consolicated to one column \"distance\"***"
   ]
  },
  {
   "cell_type": "code",
   "execution_count": 16,
   "metadata": {
    "scrolled": true
   },
   "outputs": [],
   "source": [
    "\n",
    "# consolidating 5min, 15min and 25min into a new col \"distance\"...\n",
    "\n",
    "\"\"\"\n",
    "  -----------------------------------------\n",
    "  | 5 |   15   |   25   |  distance       |\n",
    "  |----------------------------------------\n",
    "  | 1 |   0    |    0   |  within 5 min   |\n",
    "  | 1 |   1    |    0   |  within 15 min  |\n",
    "  | 1 |   1    |    1   |  within 25 min  |\n",
    "  -----------------------------------------\n",
    "\n",
    "\"\"\"\n",
    "\n",
    "\n",
    "def consolidating_distance_col(cols):\n",
    "    five_min, fifteen_min, twenty_five_min = list(map(int, cols))\n",
    "    if five_min == 1:\n",
    "        if fifteen_min == 1:\n",
    "            if twenty_five_min == 1:\n",
    "                return \"within 25 min\"\n",
    "            return \"within 15 min\"\n",
    "        return \"within 5 min\"\n",
    "\n",
    "\n",
    "\n",
    "data[\"distance\"] = data[[\"toCoupon_GEQ5min\", \"toCoupon_GEQ15min\", \"toCoupon_GEQ25min\"]].apply(consolidating_distance_col, axis=1, raw=True)\n",
    "\n"
   ]
  },
  {
   "cell_type": "code",
   "execution_count": 17,
   "metadata": {},
   "outputs": [],
   "source": [
    "# dropping the redundant columns for distance...\n",
    "\n",
    "data.drop([\"toCoupon_GEQ5min\", \"toCoupon_GEQ15min\", \"toCoupon_GEQ25min\"], axis=1, inplace=True)"
   ]
  },
  {
   "cell_type": "markdown",
   "metadata": {},
   "source": [
    "***\"direction_same\", \"direction_opp\" columns are consolicated to one column \"dir\"***"
   ]
  },
  {
   "cell_type": "code",
   "execution_count": 18,
   "metadata": {},
   "outputs": [],
   "source": [
    "# consolidating direction columns into new column \"dir\"...\n",
    "\n",
    "\n",
    "def consolidating_dir(col):\n",
    "    same, op = list(map(int, col))\n",
    "    if same == 1:\n",
    "        return \"same\"\n",
    "    return \"oposite\"\n",
    "\n",
    "data[\"dir\"] = data[[\"direction_same\", \"direction_opp\"]].apply(consolidating_dir, axis=1, raw=True)"
   ]
  },
  {
   "cell_type": "code",
   "execution_count": 19,
   "metadata": {},
   "outputs": [],
   "source": [
    "# dropping the redundant columns for direction\n",
    "\n",
    "data.drop([\"direction_same\", \"direction_opp\"], axis=1, inplace=True)"
   ]
  },
  {
   "cell_type": "markdown",
   "metadata": {},
   "source": [
    "***Rename temp column to low medium and high***"
   ]
  },
  {
   "cell_type": "code",
   "execution_count": 20,
   "metadata": {},
   "outputs": [],
   "source": [
    "# categorizing temperature column to \"temp_dir\"...\n",
    "\n",
    "def categorizing_temp(col):\n",
    "    temp = \"\".join(list(map(str, col)))\n",
    "    \n",
    "    if temp == \"30\":\n",
    "        return \"Low\"\n",
    "    elif temp == \"55\":\n",
    "        return \"Medium\"\n",
    "    elif temp == \"80\":\n",
    "        return \"High\"\n",
    "    \n",
    "\n",
    "\n",
    "data[\"temp_cat\"] = data[[\"temperature\"]].apply(categorizing_temp, axis=1, raw=True)"
   ]
  },
  {
   "cell_type": "markdown",
   "metadata": {},
   "source": [
    "4. What proportion of the total observations chose to accept the coupon? \n",
    "\n"
   ]
  },
  {
   "cell_type": "code",
   "execution_count": 21,
   "metadata": {},
   "outputs": [
    {
     "data": {
      "image/png": "[encoded data removed]",
      "text/plain": [
       "<Figure size 1000x500 with 1 Axes>"
      ]
     },
     "metadata": {},
     "output_type": "display_data"
    }
   ],
   "source": [
    "\n",
    "# counting the values of Accepted/Rejected in acceptance columns and reset the index to turn it back to DF...\n",
    "population_acceptance_rate = data[\"acceptance\"].value_counts().reset_index()\n",
    "\n",
    "# getting the percentage rate of total acceptance  and rouding it to two decimal ...\n",
    "pop_percentage = round(population_acceptance_rate[\"acceptance\"] / data.shape[0] * 100, 2).reset_index()\n",
    "\n",
    "\n",
    "# renaming the columns for more readability...\n",
    "pop_percentage.rename(columns={\"index\": \"Acceptance\", \"acceptance\": \"AcceptancePercentage\"}, inplace=True)\n",
    "\n",
    "\n",
    "# increasing the size of the plot \n",
    "plt.figure(figsize=(10, 5))\n",
    "\n",
    "# bar plot the total population's acceptance\n",
    "total_pop_plt = sns.barplot(data=pop_percentage, x=\"Acceptance\", y=\"AcceptancePercentage\")\n",
    "\n",
    "total_pop_plt.set(\n",
    "    title=\"Percentage Rate of The Total Population's Acceptance Rate\",\n",
    "    xlabel=\"Accepted/Rejected\",\n",
    "    ylabel=\"Percentage Rate\"\n",
    ");\n",
    "\n",
    "\n",
    "\n",
    "for i in total_pop_plt.containers:\n",
    "    labels = list(map(lambda x: str(round(x, 2)) + \"%\", i.datavalues))\n",
    "    total_pop_plt.bar_label(i, labels=labels)"
   ]
  },
  {
   "cell_type": "markdown",
   "metadata": {},
   "source": [
    "5. Use a bar plot to visualize the `coupon` column."
   ]
  },
  {
   "cell_type": "code",
   "execution_count": 22,
   "metadata": {},
   "outputs": [
    {
     "data": {
      "image/png": "[encoded data removed]",
      "text/plain": [
       "<Figure size 1000x500 with 1 Axes>"
      ]
     },
     "metadata": {},
     "output_type": "display_data"
    }
   ],
   "source": [
    "# get the count of different coupons...\n",
    "\n",
    "coupon_col = data[\"coupon\"].value_counts(normalize=True).reset_index()\n",
    "\n",
    "# renaming the columns for readability\n",
    "coupon_col.rename(columns={\"index\": \"coupon\", \"coupon\": \"count\"}, inplace=True)\n",
    "\n",
    "\n",
    "# increasing the size of the plot\n",
    "plt.figure(figsize=(10, 5))\n",
    "\n",
    "\n",
    "# bar plot of the counts of all coupons\n",
    "coupon_col_plt = sns.barplot(data=coupon_col, x=\"coupon\", y=\"count\")\n",
    "\n",
    "coupon_col_plt.set(\n",
    "    title=\"totla number of coupons\",\n",
    "    xlabel=\"Coupon Type\",\n",
    "    ylabel=\"Percentage Rate\",\n",
    ")\n",
    "\n",
    "\n",
    "plt.xticks(rotation=90);\n",
    "\n",
    "\n",
    "# adding label to the bars \n",
    "\n",
    "# inspired by \"Bryan Walsh\" research\n",
    "\n",
    "for i in coupon_col_plt.containers:\n",
    "    labels = list(map(lambda x: str(round(x, 2) * 100) + \"%\", i.datavalues))\n",
    "    coupon_col_plt.bar_label(i, labels=labels)\n"
   ]
  },
  {
   "cell_type": "markdown",
   "metadata": {},
   "source": [
    "6. Use a histogram to visualize the temperature column."
   ]
  },
  {
   "cell_type": "code",
   "execution_count": 23,
   "metadata": {},
   "outputs": [
    {
     "data": {
      "image/png": "[encoded data removed]",
      "text/plain": [
       "<Figure size 640x480 with 1 Axes>"
      ]
     },
     "metadata": {},
     "output_type": "display_data"
    }
   ],
   "source": [
    "# histogram of Temperat\n",
    "\n",
    "temp_plt = sns.histplot(data=data[\"temp_cat\"])\n",
    "\n",
    "temp_plt.set(title=\"Temprature Histogram\", xlabel=\"Temperature\")\n",
    "\n",
    "\n",
    "for i in temp_plt.containers:\n",
    "    temp_plt.bar_label(i,)\n"
   ]
  },
  {
   "cell_type": "markdown",
   "metadata": {},
   "source": [
    "**Investigating the Bar Coupons**\n",
    "\n",
    "Now, we will lead you through an exploration of just the bar related coupons.  \n",
    "\n",
    "1. Create a new `DataFrame` that contains just the bar coupons.\n"
   ]
  },
  {
   "cell_type": "code",
   "execution_count": 24,
   "metadata": {},
   "outputs": [],
   "source": [
    "bar_coupons = data.query(\"coupon == 'Bar'\").copy()"
   ]
  },
  {
   "cell_type": "markdown",
   "metadata": {},
   "source": [
    "2. What proportion of bar coupons were accepted?\n"
   ]
  },
  {
   "cell_type": "code",
   "execution_count": 25,
   "metadata": {},
   "outputs": [
    {
     "data": {
      "text/plain": [
       "Rejected    0.59005\n",
       "Accepted    0.40995\n",
       "Name: acceptance, dtype: float64"
      ]
     },
     "execution_count": 25,
     "metadata": {},
     "output_type": "execute_result"
    }
   ],
   "source": [
    "\n",
    "bar_coupons[\"acceptance\"].value_counts(normalize=True)"
   ]
  },
  {
   "cell_type": "markdown",
   "metadata": {},
   "source": [
    "3. Compare the acceptance rate between those who went to a bar 3 or fewer times a month to those who went more.\n"
   ]
  },
  {
   "cell_type": "code",
   "execution_count": 29,
   "metadata": {},
   "outputs": [
    {
     "data": {
      "text/html": [
       "<div>\n",
       "<style scoped>\n",
       "    .dataframe tbody tr th:only-of-type {\n",
       "        vertical-align: middle;\n",
       "    }\n",
       "\n",
       "    .dataframe tbody tr th {\n",
       "        vertical-align: top;\n",
       "    }\n",
       "\n",
       "    .dataframe thead th {\n",
       "        text-align: right;\n",
       "    }\n",
       "</style>\n",
       "<table border=\"1\" class=\"dataframe\">\n",
       "  <thead>\n",
       "    <tr style=\"text-align: right;\">\n",
       "      <th></th>\n",
       "      <th>bar_visit_3orless</th>\n",
       "      <th>acceptance</th>\n",
       "      <th>count</th>\n",
       "    </tr>\n",
       "  </thead>\n",
       "  <tbody>\n",
       "    <tr>\n",
       "      <th>0</th>\n",
       "      <td>3 or less</td>\n",
       "      <td>Accepted</td>\n",
       "      <td>0.528125</td>\n",
       "    </tr>\n",
       "    <tr>\n",
       "      <th>1</th>\n",
       "      <td>3 or less</td>\n",
       "      <td>Rejected</td>\n",
       "      <td>0.471875</td>\n",
       "    </tr>\n",
       "    <tr>\n",
       "      <th>2</th>\n",
       "      <td>more than 3</td>\n",
       "      <td>Accepted</td>\n",
       "      <td>0.768844</td>\n",
       "    </tr>\n",
       "    <tr>\n",
       "      <th>3</th>\n",
       "      <td>more than 3</td>\n",
       "      <td>Rejected</td>\n",
       "      <td>0.231156</td>\n",
       "    </tr>\n",
       "    <tr>\n",
       "      <th>4</th>\n",
       "      <td>never</td>\n",
       "      <td>Rejected</td>\n",
       "      <td>0.807286</td>\n",
       "    </tr>\n",
       "    <tr>\n",
       "      <th>5</th>\n",
       "      <td>never</td>\n",
       "      <td>Accepted</td>\n",
       "      <td>0.192714</td>\n",
       "    </tr>\n",
       "  </tbody>\n",
       "</table>\n",
       "</div>"
      ],
      "text/plain": [
       "  bar_visit_3orless acceptance     count\n",
       "0         3 or less   Accepted  0.528125\n",
       "1         3 or less   Rejected  0.471875\n",
       "2       more than 3   Accepted  0.768844\n",
       "3       more than 3   Rejected  0.231156\n",
       "4             never   Rejected  0.807286\n",
       "5             never   Accepted  0.192714"
      ]
     },
     "execution_count": 29,
     "metadata": {},
     "output_type": "execute_result"
    }
   ],
   "source": [
    "\n",
    "bar_comp = bar_coupons.groupby(\"bar_visit_3orless\")[[\"acceptance\"]]\\\n",
    "    .value_counts(normalize=True)\\\n",
    "    .reset_index().rename(columns={0: \"count\"})\n",
    "bar_comp"
   ]
  },
  {
   "cell_type": "code",
   "execution_count": 30,
   "metadata": {},
   "outputs": [
    {
     "data": {
      "image/png": "[encoded data removed]",
      "text/plain": [
       "<Figure size 1500x500 with 1 Axes>"
      ]
     },
     "metadata": {},
     "output_type": "display_data"
    }
   ],
   "source": [
    "plt.figure(figsize=(15, 5))\n",
    "\n",
    "bar_comp_plt = sns.barplot(\n",
    "    data=bar_comp, \n",
    "    x=\"bar_visit_3orless\", \n",
    "    y=\"count\", \n",
    "    hue=\"acceptance\")\n",
    "\n",
    "bar_comp_plt.set(title=\"Comparing Acceptance Rate of People who Go To Bar\", \n",
    "                          xlabel=\"Number of Visits to a Bar\", \n",
    "                          ylabel=\"Percentage Rate\"\n",
    "                         );\n",
    "\n",
    "\n",
    "for i in bar_comp_plt.containers:\n",
    "    labels = list(map(lambda x: str(round(x, 2)) + \"%\", i.datavalues))\n",
    "    bar_comp_plt.bar_label(i, labels=labels)"
   ]
  },
  {
   "cell_type": "markdown",
   "metadata": {},
   "source": [
    "4. Compare the acceptance rate between drivers who go to a bar more than once a month and are over the age of 25 to the all others.  Is there a difference?\n"
   ]
  },
  {
   "cell_type": "code",
   "execution_count": 27,
   "metadata": {},
   "outputs": [],
   "source": [
    "# function to consolidate age to more than 21 and less than 21\n",
    "\n",
    "def create_age_col(col):\n",
    "    age = \"\".join(list(map(str, col)))\n",
    "    if \"21\" in age:\n",
    "        return \"less than 25\"\n",
    "    return \"more than 25\"\n",
    "\n",
    "\n",
    "def create_bar_visit_col(col):\n",
    "    visit = \"\".join(list(map(str, col)))\n",
    "    \n",
    "    if visit == \"less1\" or visit == \"never\":\n",
    "        return \"never\"\n",
    "    return \"more than once\"\n",
    "\n",
    "\n",
    "def create_bar_visit_3orless_col(col):\n",
    "    visit = \"\".join(list(map(str, col)))\n",
    "    \n",
    "    if visit == \"1~3\" or visit == \"less1\":\n",
    "        return \"3 or less\"\n",
    "    elif visit == \"never\":\n",
    "        return \"never\"\n",
    "    else:\n",
    "        return \"more than 3\""
   ]
  },
  {
   "cell_type": "code",
   "execution_count": 43,
   "metadata": {},
   "outputs": [],
   "source": [
    "bar_coupons[\"bar_visit_3orless\"] = bar_coupons[[\"Bar\"]].apply(create_bar_visit_3orless_col, axis=1, raw=True)\n",
    "bar_coupons[\"age_comp\"] = bar_coupons[[\"age\"]].apply(create_age_col, axis=1,raw=True)\n",
    "bar_coupons[\"bar_visit\"] = bar_coupons[[\"Bar\"]].apply(create_bar_visit_col, axis=1, raw=True)\n"
   ]
  },
  {
   "cell_type": "code",
   "execution_count": 34,
   "metadata": {
    "scrolled": false
   },
   "outputs": [
    {
     "data": {
      "text/plain": [
       "3 or less      960\n",
       "never          851\n",
       "more than 3    199\n",
       "Name: bar_visit_3orless, dtype: int64"
      ]
     },
     "execution_count": 34,
     "metadata": {},
     "output_type": "execute_result"
    }
   ],
   "source": [
    "bar_coupons[\"bar_visit_3orless\"].value_counts()\n"
   ]
  },
  {
   "cell_type": "code",
   "execution_count": 44,
   "metadata": {},
   "outputs": [],
   "source": [
    "bar_coupons_per_age_visit = bar_coupons.groupby(\"age_comp\")[[\"bar_visit\", \"acceptance\"]].value_counts(normalize=True).reset_index()\n",
    "bar_coupons_per_age_visit[\"bar_visit_age\"] = bar_coupons_per_age_visit[\"age_comp\"] + \" & \" + bar_coupons_per_age_visit[\"bar_visit\"] \n",
    "\n"
   ]
  },
  {
   "cell_type": "code",
   "execution_count": 37,
   "metadata": {},
   "outputs": [],
   "source": [
    "# bar_coupons_per_age_visit = bar_coupons_per_age_visit.drop([\"age_comp\", \"bar_visit_3orless\"], axis=1)"
   ]
  },
  {
   "cell_type": "code",
   "execution_count": 45,
   "metadata": {},
   "outputs": [
    {
     "data": {
      "text/html": [
       "<div>\n",
       "<style scoped>\n",
       "    .dataframe tbody tr th:only-of-type {\n",
       "        vertical-align: middle;\n",
       "    }\n",
       "\n",
       "    .dataframe tbody tr th {\n",
       "        vertical-align: top;\n",
       "    }\n",
       "\n",
       "    .dataframe thead th {\n",
       "        text-align: right;\n",
       "    }\n",
       "</style>\n",
       "<table border=\"1\" class=\"dataframe\">\n",
       "  <thead>\n",
       "    <tr style=\"text-align: right;\">\n",
       "      <th></th>\n",
       "      <th>age_comp</th>\n",
       "      <th>bar_visit</th>\n",
       "      <th>acceptance</th>\n",
       "      <th>0</th>\n",
       "      <th>bar_visit_age</th>\n",
       "    </tr>\n",
       "  </thead>\n",
       "  <tbody>\n",
       "    <tr>\n",
       "      <th>0</th>\n",
       "      <td>less than 25</td>\n",
       "      <td>never</td>\n",
       "      <td>Rejected</td>\n",
       "      <td>0.394841</td>\n",
       "      <td>less than 25 &amp; never</td>\n",
       "    </tr>\n",
       "    <tr>\n",
       "      <th>1</th>\n",
       "      <td>less than 25</td>\n",
       "      <td>never</td>\n",
       "      <td>Accepted</td>\n",
       "      <td>0.255952</td>\n",
       "      <td>less than 25 &amp; never</td>\n",
       "    </tr>\n",
       "    <tr>\n",
       "      <th>2</th>\n",
       "      <td>less than 25</td>\n",
       "      <td>more than once</td>\n",
       "      <td>Accepted</td>\n",
       "      <td>0.234127</td>\n",
       "      <td>less than 25 &amp; more than once</td>\n",
       "    </tr>\n",
       "    <tr>\n",
       "      <th>3</th>\n",
       "      <td>less than 25</td>\n",
       "      <td>more than once</td>\n",
       "      <td>Rejected</td>\n",
       "      <td>0.115079</td>\n",
       "      <td>less than 25 &amp; more than once</td>\n",
       "    </tr>\n",
       "    <tr>\n",
       "      <th>4</th>\n",
       "      <td>more than 25</td>\n",
       "      <td>never</td>\n",
       "      <td>Rejected</td>\n",
       "      <td>0.531873</td>\n",
       "      <td>more than 25 &amp; never</td>\n",
       "    </tr>\n",
       "    <tr>\n",
       "      <th>5</th>\n",
       "      <td>more than 25</td>\n",
       "      <td>more than once</td>\n",
       "      <td>Accepted</td>\n",
       "      <td>0.193891</td>\n",
       "      <td>more than 25 &amp; more than once</td>\n",
       "    </tr>\n",
       "    <tr>\n",
       "      <th>6</th>\n",
       "      <td>more than 25</td>\n",
       "      <td>never</td>\n",
       "      <td>Accepted</td>\n",
       "      <td>0.189243</td>\n",
       "      <td>more than 25 &amp; never</td>\n",
       "    </tr>\n",
       "    <tr>\n",
       "      <th>7</th>\n",
       "      <td>more than 25</td>\n",
       "      <td>more than once</td>\n",
       "      <td>Rejected</td>\n",
       "      <td>0.084993</td>\n",
       "      <td>more than 25 &amp; more than once</td>\n",
       "    </tr>\n",
       "  </tbody>\n",
       "</table>\n",
       "</div>"
      ],
      "text/plain": [
       "       age_comp       bar_visit acceptance         0  \\\n",
       "0  less than 25           never   Rejected  0.394841   \n",
       "1  less than 25           never   Accepted  0.255952   \n",
       "2  less than 25  more than once   Accepted  0.234127   \n",
       "3  less than 25  more than once   Rejected  0.115079   \n",
       "4  more than 25           never   Rejected  0.531873   \n",
       "5  more than 25  more than once   Accepted  0.193891   \n",
       "6  more than 25           never   Accepted  0.189243   \n",
       "7  more than 25  more than once   Rejected  0.084993   \n",
       "\n",
       "                   bar_visit_age  \n",
       "0           less than 25 & never  \n",
       "1           less than 25 & never  \n",
       "2  less than 25 & more than once  \n",
       "3  less than 25 & more than once  \n",
       "4           more than 25 & never  \n",
       "5  more than 25 & more than once  \n",
       "6           more than 25 & never  \n",
       "7  more than 25 & more than once  "
      ]
     },
     "execution_count": 45,
     "metadata": {},
     "output_type": "execute_result"
    }
   ],
   "source": [
    "bar_coupons_per_age_visit"
   ]
  },
  {
   "cell_type": "code",
   "execution_count": 46,
   "metadata": {},
   "outputs": [],
   "source": [
    "bar_coupons_per_age_visit.rename(columns={0: \"count\"}, inplace=True)"
   ]
  },
  {
   "cell_type": "code",
   "execution_count": 75,
   "metadata": {},
   "outputs": [],
   "source": [
    "bar_coupons_per_age_visit.sort_values(by=\"acceptance\", ascending=True, inplace=True)"
   ]
  },
  {
   "cell_type": "code",
   "execution_count": 76,
   "metadata": {},
   "outputs": [
    {
     "data": {
      "image/png": "[encoded data removed]",
      "text/plain": [
       "<Figure size 1500x500 with 1 Axes>"
      ]
     },
     "metadata": {},
     "output_type": "display_data"
    }
   ],
   "source": [
    "plt.figure(figsize=(15,5))\n",
    "\n",
    "age_visit_barplt = sns.barplot(data=bar_coupons_per_age_visit, x=\"bar_visit_age\", y=\"count\", hue=\"acceptance\");\n",
    "\n",
    "age_visit_barplt.set(\n",
    "    title=\"Bar Visit for 25 Years and Older and Visit More than Once\",\n",
    "    xlabel=\"Frequency Of Bar Visit & Age Range\",\n",
    "    ylabel=\"Percentage Rate\"\n",
    ");\n",
    "\n",
    "plt.xticks(rotation=45);\n",
    "\n",
    "\n",
    "for i in age_visit_barplt.containers:\n",
    "    labels = list(map(lambda x: str(round(x, 2)) + \"%\", i.datavalues))\n",
    "    age_visit_barplt.bar_label(i, labels=labels)"
   ]
  },
  {
   "cell_type": "markdown",
   "metadata": {},
   "source": [
    "5. Use the same process to compare the acceptance rate between drivers who go to bars more than once a month and had passengers that were not a kid and had occupations other than farming, fishing, or forestry. \n"
   ]
  },
  {
   "cell_type": "code",
   "execution_count": 41,
   "metadata": {},
   "outputs": [
    {
     "data": {
      "text/plain": [
       "Unemployed                                   301\n",
       "Student                                      251\n",
       "Computer & Mathematical                      229\n",
       "Sales & Related                              178\n",
       "Education&Training&Library                   140\n",
       "Management                                   115\n",
       "Office & Administrative Support              105\n",
       "Arts Design Entertainment Sports & Media     100\n",
       "Business & Financial                          89\n",
       "Retired                                       75\n",
       "Food Preparation & Serving Related            48\n",
       "Community & Social Services                   44\n",
       "Healthcare Support                            44\n",
       "Healthcare Practitioners & Technical          41\n",
       "Transportation & Material Moving              35\n",
       "Legal                                         34\n",
       "Architecture & Engineering                    27\n",
       "Personal Care & Service                       27\n",
       "Protective Service                            27\n",
       "Construction & Extraction                     24\n",
       "Life Physical Social Science                  24\n",
       "Installation Maintenance & Repair             18\n",
       "Production Occupations                        18\n",
       "Farming Fishing & Forestry                     9\n",
       "Building & Grounds Cleaning & Maintenance      7\n",
       "Name: occupation, dtype: int64"
      ]
     },
     "execution_count": 41,
     "metadata": {},
     "output_type": "execute_result"
    }
   ],
   "source": [
    "bar_coupons[\"occupation\"].value_counts()"
   ]
  },
  {
   "cell_type": "code",
   "execution_count": 48,
   "metadata": {},
   "outputs": [],
   "source": [
    "# filter for more than once visit and removing Farming, Fishing and Forestry\n",
    "\n",
    "bar_more_then_once = bar_coupons.query(\"bar_visit == 'more than once' & occupation != 'Farming Fishing & Forestry'\").copy()\n",
    "\n"
   ]
  },
  {
   "cell_type": "code",
   "execution_count": 49,
   "metadata": {},
   "outputs": [],
   "source": [
    "def create_new_col(col):\n",
    "    visit, passanger = list(map(str, col))\n",
    "    if visit == \"more than once\":\n",
    "        if \"Kid\" in passanger:\n",
    "            return \"more than once & with Kid\"\n",
    "        else:\n",
    "            return \"more than once & without Kid\"\n",
    "        \n",
    "    elif visit == \"never\":\n",
    "        if \"Kid\" in passanger:\n",
    "            return \"never & with Kid\"\n",
    "        else:\n",
    "            return \"never & without Kid\""
   ]
  },
  {
   "cell_type": "code",
   "execution_count": 50,
   "metadata": {},
   "outputs": [],
   "source": [
    "bar_coupons[\"visit_passanger\"] = bar_coupons[[\"bar_visit\", \"passanger\"]].apply(create_new_col, axis=1, raw=True)"
   ]
  },
  {
   "cell_type": "code",
   "execution_count": 51,
   "metadata": {},
   "outputs": [
    {
     "data": {
      "text/plain": [
       "never & without Kid             1255\n",
       "more than once & without Kid     551\n",
       "never & with Kid                 159\n",
       "more than once & with Kid         45\n",
       "Name: visit_passanger, dtype: int64"
      ]
     },
     "execution_count": 51,
     "metadata": {},
     "output_type": "execute_result"
    }
   ],
   "source": [
    "bar_coupons[\"visit_passanger\"].value_counts()"
   ]
  },
  {
   "cell_type": "code",
   "execution_count": 57,
   "metadata": {},
   "outputs": [],
   "source": [
    "grp_by_visit_passanger = bar_coupons.groupby(\"visit_passanger\")[[\"acceptance\", \"visit_passanger\"]]\\\n",
    ".value_counts(normalize=True).reset_index().rename(columns={0: \"count\"})\n",
    "\n",
    "\n",
    "# if plot sees \"Rejected\" first in the table, it will choose that as a blue color, so to ensure the plot coloring\n",
    "# stays uniform across, I am sorting the DF by \"acceptance\"\n",
    "\n",
    "grp_by_visit_passanger.sort_values(by=\"acceptance\", ascending=True, inplace=True)\n"
   ]
  },
  {
   "cell_type": "code",
   "execution_count": 59,
   "metadata": {},
   "outputs": [
    {
     "data": {
      "image/png": "[encoded data removed]",
      "text/plain": [
       "<Figure size 1500x700 with 1 Axes>"
      ]
     },
     "metadata": {},
     "output_type": "display_data"
    }
   ],
   "source": [
    "plt.figure(figsize=(15, 7))\n",
    "\n",
    "visit_passanger_plt = sns.barplot(data=grp_by_visit_passanger, x=\"visit_passanger\", y=\"count\", hue=\"acceptance\");\n",
    "\n",
    "visit_passanger_plt.set(\n",
    "    title=\"Drivers With No Kid(s) and Occupation other than Farming, Fishing and Forestry\",\n",
    "    xlabel=\"Bar Visit More Than Once with or without Kid(s)\",\n",
    "    ylabel=\"Percentage Rate\"\n",
    ")\n",
    "plt.xticks(rotation=45); \n",
    "\n",
    "for i in visit_passanger_plt.containers:\n",
    "    labels = list(map(lambda x: str(round(x, 2)) + \"%\", i.datavalues))\n",
    "    visit_passanger_plt.bar_label(i, labels=labels)"
   ]
  },
  {
   "cell_type": "markdown",
   "metadata": {},
   "source": [
    "6. Compare the acceptance rates between those drivers who:\n",
    "\n",
    "- go to bars more than once a month, had passengers that were not a kid, and were not widowed *OR*\n",
    "- go to bars more than once a month and are under the age of 30 *OR*\n",
    "- go to cheap restaurants more than 4 times a month and income is less than 50K. \n",
    "\n"
   ]
  },
  {
   "cell_type": "markdown",
   "metadata": {},
   "source": [
    "<hr>\n",
    "\n",
    "\n",
    "**1. go to bars more than once a month, had passengers that were not a kid, and were not widowed OR**\n",
    "\n",
    "<hr>"
   ]
  },
  {
   "cell_type": "code",
   "execution_count": 60,
   "metadata": {
    "scrolled": true
   },
   "outputs": [
    {
     "data": {
      "text/plain": [
       "Married partner      875\n",
       "Single               661\n",
       "Unmarried partner    378\n",
       "Divorced              75\n",
       "Widowed               21\n",
       "Name: maritalStatus, dtype: int64"
      ]
     },
     "execution_count": 60,
     "metadata": {},
     "output_type": "execute_result"
    }
   ],
   "source": [
    "bar_coupons[\"maritalStatus\"].value_counts()"
   ]
  },
  {
   "cell_type": "code",
   "execution_count": 63,
   "metadata": {},
   "outputs": [
    {
     "data": {
      "text/html": [
       "<div>\n",
       "<style scoped>\n",
       "    .dataframe tbody tr th:only-of-type {\n",
       "        vertical-align: middle;\n",
       "    }\n",
       "\n",
       "    .dataframe tbody tr th {\n",
       "        vertical-align: top;\n",
       "    }\n",
       "\n",
       "    .dataframe thead th {\n",
       "        text-align: right;\n",
       "    }\n",
       "</style>\n",
       "<table border=\"1\" class=\"dataframe\">\n",
       "  <thead>\n",
       "    <tr style=\"text-align: right;\">\n",
       "      <th></th>\n",
       "      <th>destination</th>\n",
       "      <th>passanger</th>\n",
       "      <th>weather</th>\n",
       "      <th>temperature</th>\n",
       "      <th>time</th>\n",
       "      <th>coupon</th>\n",
       "      <th>expiration</th>\n",
       "      <th>gender</th>\n",
       "      <th>age</th>\n",
       "      <th>maritalStatus</th>\n",
       "      <th>has_children</th>\n",
       "      <th>education</th>\n",
       "      <th>occupation</th>\n",
       "      <th>income</th>\n",
       "      <th>Bar</th>\n",
       "      <th>CoffeeHouse</th>\n",
       "      <th>CarryAway</th>\n",
       "      <th>RestaurantLessThan20</th>\n",
       "      <th>Restaurant20To50</th>\n",
       "      <th>Y</th>\n",
       "      <th>acceptance</th>\n",
       "      <th>distance</th>\n",
       "      <th>dir</th>\n",
       "      <th>temp_cat</th>\n",
       "      <th>bar_visit_3orless</th>\n",
       "      <th>age_comp</th>\n",
       "      <th>bar_visit</th>\n",
       "      <th>visit_passanger</th>\n",
       "    </tr>\n",
       "  </thead>\n",
       "  <tbody>\n",
       "    <tr>\n",
       "      <th>9</th>\n",
       "      <td>No Urgent Place</td>\n",
       "      <td>Kid(s)</td>\n",
       "      <td>Sunny</td>\n",
       "      <td>80</td>\n",
       "      <td>10AM</td>\n",
       "      <td>Bar</td>\n",
       "      <td>1d</td>\n",
       "      <td>Female</td>\n",
       "      <td>21</td>\n",
       "      <td>Unmarried partner</td>\n",
       "      <td>1</td>\n",
       "      <td>Some college - no degree</td>\n",
       "      <td>Unemployed</td>\n",
       "      <td>$37500 - $49999</td>\n",
       "      <td>never</td>\n",
       "      <td>never</td>\n",
       "      <td>never</td>\n",
       "      <td>4~8</td>\n",
       "      <td>1~3</td>\n",
       "      <td>0</td>\n",
       "      <td>Rejected</td>\n",
       "      <td>within 15 min</td>\n",
       "      <td>oposite</td>\n",
       "      <td>High</td>\n",
       "      <td>never</td>\n",
       "      <td>less than 25</td>\n",
       "      <td>never</td>\n",
       "      <td>never &amp; with Kid</td>\n",
       "    </tr>\n",
       "    <tr>\n",
       "      <th>13</th>\n",
       "      <td>Home</td>\n",
       "      <td>Alone</td>\n",
       "      <td>Sunny</td>\n",
       "      <td>55</td>\n",
       "      <td>6PM</td>\n",
       "      <td>Bar</td>\n",
       "      <td>1d</td>\n",
       "      <td>Female</td>\n",
       "      <td>21</td>\n",
       "      <td>Unmarried partner</td>\n",
       "      <td>1</td>\n",
       "      <td>Some college - no degree</td>\n",
       "      <td>Unemployed</td>\n",
       "      <td>$37500 - $49999</td>\n",
       "      <td>never</td>\n",
       "      <td>never</td>\n",
       "      <td>never</td>\n",
       "      <td>4~8</td>\n",
       "      <td>1~3</td>\n",
       "      <td>1</td>\n",
       "      <td>Accepted</td>\n",
       "      <td>within 5 min</td>\n",
       "      <td>same</td>\n",
       "      <td>Medium</td>\n",
       "      <td>never</td>\n",
       "      <td>less than 25</td>\n",
       "      <td>never</td>\n",
       "      <td>never &amp; without Kid</td>\n",
       "    </tr>\n",
       "    <tr>\n",
       "      <th>17</th>\n",
       "      <td>Work</td>\n",
       "      <td>Alone</td>\n",
       "      <td>Sunny</td>\n",
       "      <td>55</td>\n",
       "      <td>7AM</td>\n",
       "      <td>Bar</td>\n",
       "      <td>1d</td>\n",
       "      <td>Female</td>\n",
       "      <td>21</td>\n",
       "      <td>Unmarried partner</td>\n",
       "      <td>1</td>\n",
       "      <td>Some college - no degree</td>\n",
       "      <td>Unemployed</td>\n",
       "      <td>$37500 - $49999</td>\n",
       "      <td>never</td>\n",
       "      <td>never</td>\n",
       "      <td>never</td>\n",
       "      <td>4~8</td>\n",
       "      <td>1~3</td>\n",
       "      <td>0</td>\n",
       "      <td>Rejected</td>\n",
       "      <td>within 25 min</td>\n",
       "      <td>oposite</td>\n",
       "      <td>Medium</td>\n",
       "      <td>never</td>\n",
       "      <td>less than 25</td>\n",
       "      <td>never</td>\n",
       "      <td>never &amp; without Kid</td>\n",
       "    </tr>\n",
       "    <tr>\n",
       "      <th>24</th>\n",
       "      <td>No Urgent Place</td>\n",
       "      <td>Friend(s)</td>\n",
       "      <td>Sunny</td>\n",
       "      <td>80</td>\n",
       "      <td>10AM</td>\n",
       "      <td>Bar</td>\n",
       "      <td>1d</td>\n",
       "      <td>Male</td>\n",
       "      <td>21</td>\n",
       "      <td>Single</td>\n",
       "      <td>0</td>\n",
       "      <td>Bachelors degree</td>\n",
       "      <td>Architecture &amp; Engineering</td>\n",
       "      <td>$62500 - $74999</td>\n",
       "      <td>never</td>\n",
       "      <td>less1</td>\n",
       "      <td>4~8</td>\n",
       "      <td>4~8</td>\n",
       "      <td>less1</td>\n",
       "      <td>1</td>\n",
       "      <td>Accepted</td>\n",
       "      <td>within 5 min</td>\n",
       "      <td>oposite</td>\n",
       "      <td>High</td>\n",
       "      <td>never</td>\n",
       "      <td>less than 25</td>\n",
       "      <td>never</td>\n",
       "      <td>never &amp; without Kid</td>\n",
       "    </tr>\n",
       "    <tr>\n",
       "      <th>35</th>\n",
       "      <td>Home</td>\n",
       "      <td>Alone</td>\n",
       "      <td>Sunny</td>\n",
       "      <td>55</td>\n",
       "      <td>6PM</td>\n",
       "      <td>Bar</td>\n",
       "      <td>1d</td>\n",
       "      <td>Male</td>\n",
       "      <td>21</td>\n",
       "      <td>Single</td>\n",
       "      <td>0</td>\n",
       "      <td>Bachelors degree</td>\n",
       "      <td>Architecture &amp; Engineering</td>\n",
       "      <td>$62500 - $74999</td>\n",
       "      <td>never</td>\n",
       "      <td>less1</td>\n",
       "      <td>4~8</td>\n",
       "      <td>4~8</td>\n",
       "      <td>less1</td>\n",
       "      <td>1</td>\n",
       "      <td>Accepted</td>\n",
       "      <td>within 5 min</td>\n",
       "      <td>same</td>\n",
       "      <td>Medium</td>\n",
       "      <td>never</td>\n",
       "      <td>less than 25</td>\n",
       "      <td>never</td>\n",
       "      <td>never &amp; without Kid</td>\n",
       "    </tr>\n",
       "  </tbody>\n",
       "</table>\n",
       "</div>"
      ],
      "text/plain": [
       "        destination  passanger weather  temperature  time coupon expiration  \\\n",
       "9   No Urgent Place     Kid(s)   Sunny           80  10AM    Bar         1d   \n",
       "13             Home      Alone   Sunny           55   6PM    Bar         1d   \n",
       "17             Work      Alone   Sunny           55   7AM    Bar         1d   \n",
       "24  No Urgent Place  Friend(s)   Sunny           80  10AM    Bar         1d   \n",
       "35             Home      Alone   Sunny           55   6PM    Bar         1d   \n",
       "\n",
       "    gender age      maritalStatus  has_children                 education  \\\n",
       "9   Female  21  Unmarried partner             1  Some college - no degree   \n",
       "13  Female  21  Unmarried partner             1  Some college - no degree   \n",
       "17  Female  21  Unmarried partner             1  Some college - no degree   \n",
       "24    Male  21             Single             0          Bachelors degree   \n",
       "35    Male  21             Single             0          Bachelors degree   \n",
       "\n",
       "                    occupation           income    Bar CoffeeHouse CarryAway  \\\n",
       "9                   Unemployed  $37500 - $49999  never       never     never   \n",
       "13                  Unemployed  $37500 - $49999  never       never     never   \n",
       "17                  Unemployed  $37500 - $49999  never       never     never   \n",
       "24  Architecture & Engineering  $62500 - $74999  never       less1       4~8   \n",
       "35  Architecture & Engineering  $62500 - $74999  never       less1       4~8   \n",
       "\n",
       "   RestaurantLessThan20 Restaurant20To50  Y acceptance       distance  \\\n",
       "9                   4~8              1~3  0   Rejected  within 15 min   \n",
       "13                  4~8              1~3  1   Accepted   within 5 min   \n",
       "17                  4~8              1~3  0   Rejected  within 25 min   \n",
       "24                  4~8            less1  1   Accepted   within 5 min   \n",
       "35                  4~8            less1  1   Accepted   within 5 min   \n",
       "\n",
       "        dir temp_cat bar_visit_3orless      age_comp bar_visit  \\\n",
       "9   oposite     High             never  less than 25     never   \n",
       "13     same   Medium             never  less than 25     never   \n",
       "17  oposite   Medium             never  less than 25     never   \n",
       "24  oposite     High             never  less than 25     never   \n",
       "35     same   Medium             never  less than 25     never   \n",
       "\n",
       "        visit_passanger  \n",
       "9      never & with Kid  \n",
       "13  never & without Kid  \n",
       "17  never & without Kid  \n",
       "24  never & without Kid  \n",
       "35  never & without Kid  "
      ]
     },
     "execution_count": 63,
     "metadata": {},
     "output_type": "execute_result"
    }
   ],
   "source": [
    "bar_coupons.head()"
   ]
  },
  {
   "cell_type": "code",
   "execution_count": 73,
   "metadata": {},
   "outputs": [
    {
     "data": {
      "image/png": "[encoded data removed]",
      "text/plain": [
       "<Figure size 640x480 with 1 Axes>"
      ]
     },
     "metadata": {},
     "output_type": "display_data"
    }
   ],
   "source": [
    "# 1. \n",
    "\n",
    "more_than_once_no_kids_no_widowed = bar_coupons.query(\"age_30_visit == 'under 30 & more than once' & passanger != 'Kid(s)' & maritalStatus != 'Widowed'\")\\\n",
    "[[\"visit_passanger\",\"acceptance\"]].value_counts(normalize=True).reset_index()\n",
    "\n",
    "\n",
    "more_than_once_no_kids_no_widowed_plt = sns.barplot(data=more_than_once_no_kids_no_widowed, x=\"visit_passanger\", y=0, hue=\"acceptance\");\n",
    "\n",
    "\n",
    "for i in more_than_once_no_kids_no_widowed_plt.containers:\n",
    "    more_than_once_no_kids_no_widowed_plt.bar_label(i, )\n"
   ]
  },
  {
   "cell_type": "markdown",
   "metadata": {},
   "source": [
    "<hr>\n",
    "\n",
    "**2. go to bars more than once a month and are under the age of 30 OR**\n",
    "\n",
    "<hr>"
   ]
  },
  {
   "cell_type": "code",
   "execution_count": 64,
   "metadata": {},
   "outputs": [],
   "source": [
    "def creating_col_for_age(col):\n",
    "    age, visit = list(map(str, col))\n",
    "    \n",
    "    if age == \"21\" or age == \"26\" or age == \"below21\":\n",
    "        if visit == \"more than once\":\n",
    "            return \"under 30 & more than once\"\n",
    "        return \"under 30 & never\"\n",
    "    \n",
    "    elif age != \"21\" or age != \"26\" or age != \"below21\":\n",
    "        if visit == \"more than once\":\n",
    "            return \"above 30 & more than once\"\n",
    "        return \"above 30 & never\""
   ]
  },
  {
   "cell_type": "code",
   "execution_count": 65,
   "metadata": {},
   "outputs": [],
   "source": [
    "bar_coupons[\"age_30_visit\"] = bar_coupons[[\"age\", \"bar_visit\"]].apply(creating_col_for_age, axis=1, raw=True).copy()"
   ]
  },
  {
   "cell_type": "code",
   "execution_count": 66,
   "metadata": {},
   "outputs": [
    {
     "data": {
      "text/plain": [
       "above 30 & never             0.427861\n",
       "under 30 & never             0.275622\n",
       "under 30 & more than once    0.171642\n",
       "above 30 & more than once    0.124876\n",
       "Name: age_30_visit, dtype: float64"
      ]
     },
     "execution_count": 66,
     "metadata": {},
     "output_type": "execute_result"
    }
   ],
   "source": [
    "bar_coupons[\"age_30_visit\"].value_counts(normalize=True)"
   ]
  },
  {
   "cell_type": "code",
   "execution_count": null,
   "metadata": {},
   "outputs": [],
   "source": []
  },
  {
   "cell_type": "code",
   "execution_count": 69,
   "metadata": {},
   "outputs": [],
   "source": [
    "age_30_visit = bar_coupons.groupby(\"age_30_visit\")[[\"age_30_visit\", \"acceptance\"]].value_counts(normalize=True)\\\n",
    ".reset_index().rename(columns={0: \"count\"})\n",
    "age_30_visit.sort_values(by=\"acceptance\", ascending=True, inplace=True)"
   ]
  },
  {
   "cell_type": "code",
   "execution_count": 74,
   "metadata": {},
   "outputs": [
    {
     "data": {
      "image/png": "[encoded data removed]",
      "text/plain": [
       "<Figure size 1500x500 with 2 Axes>"
      ]
     },
     "metadata": {},
     "output_type": "display_data"
    }
   ],
   "source": [
    "# Plot Code Block...\n",
    "\n",
    "\n",
    "plt.figure(figsize=(15, 5))\n",
    "\n",
    "\n",
    "plt.subplot(121)\n",
    "\n",
    "age_more_30_barplt = sns.barplot(data=age_30_visit.query(\"age_30_visit == 'under 30 & more than once'\"), x=\"age_30_visit\", y=\"count\", hue=\"acceptance\")\n",
    "\n",
    "age_more_30_barplt.set(title=\"Under Age of 30 & Go To Bar More Than Once\");\n",
    "\n",
    "plt.xlabel(\"Under Age Of 30 & Visit Bar More Than Once\");\n",
    "plt.ylabel(\"Count\");\n",
    "\n",
    "\n",
    "plt.subplot(122)\n",
    "more_than_once_nokid_barplt = sns.barplot(data=more_than_once_no_kids_no_widowed, x=\"visit_passanger\", y=0, hue=\"acceptance\");\n",
    "\n",
    "more_than_once_nokid_barplt.set_title(\"Drivers Who Go to Bar More Than Once & With No Kid(s) as Passanger\")\n",
    "\n",
    "\n",
    "plt.xlabel(\"Go To Bar More Than Once a Month with No Kids\");\n",
    "plt.ylabel(\"Count\");\n",
    "\n",
    "plt.suptitle(\"Comparing Drivers More Than Age Of 30 and Drivers Go to Bar With No Kid(s)\", y=1.05)\n",
    "\n",
    "\n",
    "# idea and reasearch done by Bryan Walsh \n",
    "for i in age_more_30_barplt.containers:\n",
    "    labels = list(map(lambda x: str(round(x, 2)) + \"%\", i.datavalues))\n",
    "    age_more_30_barplt.bar_label(i, labels=labels)\n",
    "    \n",
    "    \n",
    "for i in more_than_once_nokid_barplt.containers:\n",
    "    labels = list(map(lambda x: str(round(x, 2)) + \"%\", i.datavalues))\n",
    "    more_than_once_nokid_barplt.bar_label(i, labels=labels)    \n",
    "    \n",
    "    \n",
    "    "
   ]
  },
  {
   "cell_type": "markdown",
   "metadata": {},
   "source": [
    "<hr>\n",
    "\n",
    "**3. go to cheap restaurants more than 4 times a month and income is less than 50K.**\n",
    "\n",
    "<hr>"
   ]
  },
  {
   "cell_type": "code",
   "execution_count": null,
   "metadata": {},
   "outputs": [],
   "source": [
    "bar_coupons[\"RestaurantLessThan20\"].value_counts()"
   ]
  },
  {
   "cell_type": "code",
   "execution_count": null,
   "metadata": {},
   "outputs": [],
   "source": [
    "def create_income_cheap_rstrnt_col(col):\n",
    "    income, visit = list(map(str, col))\n",
    "    if \"25000\" in income or \"12500\" in income or \"37500\" in income:\n",
    "        if visit == \"4~8\" or visit == \"gt8\":\n",
    "            return \"4 or more visit & less than 50k\"\n",
    "        return \"less than 4 visit & less than 50k\"\n",
    "    \n",
    "    elif \"25000\" not in income or \"12500\" not in income or \"37500\" not in income:\n",
    "        if visit == \"4~8\" or visit == \"gt8\":\n",
    "            return \"4 or more visit & more than 50k\"\n",
    "        return \"less than 4 visit & more than 50k\"\n",
    "\n",
    "    \n",
    "\n",
    "bar_coupons[\"income_cheap_rst_visit\"] = bar_coupons[[\"income\", \"RestaurantLessThan20\"]].apply(create_income_cheap_rstrnt_col, axis=1, raw=True).copy()\n"
   ]
  },
  {
   "cell_type": "code",
   "execution_count": null,
   "metadata": {},
   "outputs": [],
   "source": [
    "cheap_rst_income = bar_coupons.groupby(\"income_cheap_rst_visit\")[[\"acceptance\"]]\\\n",
    ".value_counts(normalize=True).reset_index()\n",
    "\n",
    "cheap_rst_income.rename(columns={0: \"count\"}, inplace=True)"
   ]
  },
  {
   "cell_type": "code",
   "execution_count": null,
   "metadata": {},
   "outputs": [],
   "source": [
    "plt.figure(figsize=(15, 5))\n",
    "fig_bar = sns.barplot(data=cheap_rst_income, x=\"income_cheap_rst_visit\", y=\"count\", hue=\"acceptance\");\n",
    "plt.xticks(rotation=45);\n",
    "\n",
    "# idea and reasearch done by Bryan Walsh \n",
    "for i in fig_bar.containers:\n",
    "    fig_bar.bar_label(i, )"
   ]
  },
  {
   "cell_type": "code",
   "execution_count": null,
   "metadata": {},
   "outputs": [],
   "source": []
  },
  {
   "cell_type": "markdown",
   "metadata": {},
   "source": [
    "7.  Based on these observations, what do you hypothesize about drivers who accepted the bar coupons?"
   ]
  },
  {
   "cell_type": "code",
   "execution_count": null,
   "metadata": {},
   "outputs": [],
   "source": []
  },
  {
   "cell_type": "markdown",
   "metadata": {},
   "source": [
    "# Independent Investigation\n",
    "\n",
    "Using the bar coupon example as motivation, you are to explore one of the other coupon groups and try to determine the characteristics of passengers who accept the coupons.  "
   ]
  },
  {
   "cell_type": "markdown",
   "metadata": {},
   "source": [
    "## distribution of coupons "
   ]
  },
  {
   "cell_type": "code",
   "execution_count": null,
   "metadata": {
    "scrolled": false
   },
   "outputs": [],
   "source": [
    "sns.barplot(data=data.groupby(\"coupon\")[[\"coupon\"]].value_counts().reset_index().sort_values(by=0, ascending=False), \n",
    "           x=0, y='coupon'\n",
    "           ).set(title=\"Distribution of Coupons\");"
   ]
  },
  {
   "cell_type": "markdown",
   "metadata": {},
   "source": [
    "**above plot shows most of the distribution of coupons were for Coffee House and cheap Restautant and Take Away**"
   ]
  },
  {
   "cell_type": "code",
   "execution_count": null,
   "metadata": {},
   "outputs": [],
   "source": [
    "data.groupby(\"coupon\")[[\"acceptance\"]].value_counts().reset_index().sort_values(by=0, ascending=False)"
   ]
  },
  {
   "cell_type": "code",
   "execution_count": null,
   "metadata": {},
   "outputs": [],
   "source": [
    "plt.figure(figsize=(18,7))\n",
    "\n",
    "sns.barplot(data=data.groupby(\"coupon\")[[\"acceptance\"]].value_counts().reset_index().sort_values(by=0, ascending=False).rename(columns={0: \"Count\"}), \n",
    "           y=\"Count\", x='coupon', hue=\"acceptance\"\n",
    "           ).set(title=\"Distribution of Coupons vs. Acceptance rate\");\n",
    "\n"
   ]
  },
  {
   "cell_type": "markdown",
   "metadata": {},
   "source": [
    "## Passenger and destination on Acceptance Variable\n",
    "\n",
    "1. concatenate destination with passenger and look at their acceptance rate "
   ]
  },
  {
   "cell_type": "code",
   "execution_count": null,
   "metadata": {},
   "outputs": [],
   "source": [
    "\n",
    "# concatnating destination with passenger column \n",
    "\n",
    "data[\"passanger_dst\"] = data[\"destination\"].str.cat(data[\"passanger\"], sep=\" & \")"
   ]
  },
  {
   "cell_type": "code",
   "execution_count": null,
   "metadata": {},
   "outputs": [],
   "source": [
    "data.head()"
   ]
  },
  {
   "cell_type": "code",
   "execution_count": null,
   "metadata": {},
   "outputs": [],
   "source": [
    "plt.figure(figsize=(20, 5))\n",
    "\n",
    "sns.barplot(\n",
    "    data=data.groupby(\"passanger_dst\")[[\"acceptance\"]]\\\n",
    "    .value_counts().reset_index()\\\n",
    "    .rename(columns={0: \"Count\"}), \n",
    "    x=\"passanger_dst\", y=\"Count\", hue=\"acceptance\")\\\n",
    ".set(title=\"Passenger and Destination vs. Acceptance\");\n",
    "\n",
    "plt.xticks(rotation=45);\n",
    "\n"
   ]
  },
  {
   "cell_type": "code",
   "execution_count": null,
   "metadata": {},
   "outputs": [],
   "source": [
    "grp_psg_cpn = data.groupby([\"passanger_dst\", \"coupon\"])[[\"acceptance\"]].value_counts().reset_index()\n",
    "\n",
    "\n",
    "qry_no_urgent_friend = grp_psg_cpn.query(\"passanger_dst == 'No Urgent Place & Friend(s)'\")\n",
    "\n",
    "\n",
    "plt.figure(figsize=(18, 7))\n",
    "\n",
    "bar_plt = sns.barplot(data=qry_no_urgent_friend, x=\"coupon\", y=0, hue=\"acceptance\");\n",
    "plt.xticks(rotation=45);\n",
    "\n",
    "bar_plt.set(title=\"Driver With No Urgent Place and Friend(s) Coupon Acceptance Rate\");"
   ]
  },
  {
   "cell_type": "code",
   "execution_count": null,
   "metadata": {},
   "outputs": [],
   "source": [
    "data[\"psngr_dst_occ\"] = data[\"passanger_dst\"] + \" & \" + data[\"occupation\"] "
   ]
  },
  {
   "cell_type": "code",
   "execution_count": null,
   "metadata": {},
   "outputs": [],
   "source": [
    "data.head()"
   ]
  },
  {
   "cell_type": "code",
   "execution_count": null,
   "metadata": {},
   "outputs": [],
   "source": [
    "a_ = data.groupby(\"psngr_dst_occ\")[[\"acceptance\"]].value_counts().reset_index()\n",
    "b_ = a_.query('psngr_dst_occ == \"No Urgent Place & Friend(s) & Unemployed\"')\n"
   ]
  },
  {
   "cell_type": "code",
   "execution_count": null,
   "metadata": {},
   "outputs": [],
   "source": [
    "\n",
    "sns.barplot(data=b_, x=\"psngr_dst_occ\", y=0, hue=\"acceptance\")"
   ]
  },
  {
   "cell_type": "markdown",
   "metadata": {},
   "source": [
    "## looking at occupation - Student and Unemployed on acceptance rate "
   ]
  },
  {
   "cell_type": "code",
   "execution_count": null,
   "metadata": {},
   "outputs": [],
   "source": [
    "occupation = data[[\"occupation\", \"acceptance\"]].value_counts().reset_index().rename(columns={0: \"count\"})\n",
    "\n",
    "\n",
    "plt.figure(figsize=(18, 6))\n",
    "sns.barplot(data=occupation, x=\"occupation\", y=\"count\", hue=\"acceptance\");\n",
    "plt.xticks(rotation=90);\n"
   ]
  },
  {
   "cell_type": "code",
   "execution_count": null,
   "metadata": {},
   "outputs": [],
   "source": [
    "student = data.query(\"occupation == 'Student'\")[\"acceptance\"]"
   ]
  },
  {
   "cell_type": "code",
   "execution_count": null,
   "metadata": {},
   "outputs": [],
   "source": [
    "student_count = student.count()\n",
    "student_count"
   ]
  },
  {
   "cell_type": "code",
   "execution_count": null,
   "metadata": {},
   "outputs": [],
   "source": [
    "student.value_counts().apply(lambda x: round(x / student_count * 100, 2))\\\n",
    "    .reset_index().rename(columns={\"index\": \"acceptance\", \"acceptance\": \"percentage\"})\n",
    "\n",
    "\n"
   ]
  },
  {
   "cell_type": "code",
   "execution_count": null,
   "metadata": {},
   "outputs": [],
   "source": [
    "unemployed = data.query(\"occupation == 'Unemployed'\")[\"acceptance\"]\n",
    "unemployed_count = unemployed.count()"
   ]
  },
  {
   "cell_type": "code",
   "execution_count": null,
   "metadata": {},
   "outputs": [],
   "source": [
    "unemployed.value_counts().apply(lambda x: round(x / unemployed_count * 100, 2))\\\n",
    "    .reset_index().rename(columns={\"index\": \"acceptance\", \"acceptance\": \"percentage\"})"
   ]
  },
  {
   "cell_type": "markdown",
   "metadata": {},
   "source": [
    "## looking at temperature on acceptace rate"
   ]
  },
  {
   "cell_type": "code",
   "execution_count": null,
   "metadata": {},
   "outputs": [],
   "source": [
    "data.groupby(\"temp_cat\")[[\"acceptance\"]].value_counts().reset_index()"
   ]
  },
  {
   "cell_type": "code",
   "execution_count": null,
   "metadata": {},
   "outputs": [],
   "source": []
  },
  {
   "cell_type": "code",
   "execution_count": null,
   "metadata": {},
   "outputs": [],
   "source": []
  }
 ],
 "metadata": {
  "kernelspec": {
   "display_name": "Python 3 (ipykernel)",
   "language": "python",
   "name": "python3"
  },
  "language_info": {
   "codemirror_mode": {
    "name": "ipython",
    "version": 3
   },
   "file_extension": ".py",
   "mimetype": "text/x-python",
   "name": "python",
   "nbconvert_exporter": "python",
   "pygments_lexer": "ipython3",
   "version": "3.10.6"
  },
  "widgets": {
   "application/vnd.jupyter.widget-state+json": {
    "state": {},
    "version_major": 2,
    "version_minor": 0
   }
  }
 },
 "nbformat": 4,
 "nbformat_minor": 4
}
